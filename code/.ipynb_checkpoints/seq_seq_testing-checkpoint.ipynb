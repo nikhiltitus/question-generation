{
 "cells": [
  {
   "cell_type": "code",
   "execution_count": 15,
   "metadata": {},
   "outputs": [],
   "source": [
    "import numpy as np\n",
    "import tensorflow as tf\n",
    "import pickle\n",
    "from QuestionAnswers import QuestionAnswers\n",
    "from nltk.tokenize import word_tokenize\n"
   ]
  },
  {
   "cell_type": "code",
   "execution_count": 2,
   "metadata": {
    "collapsed": true
   },
   "outputs": [],
   "source": [
    "glove_file_location='../data/glove.6B/glove.6B.300d.txt'"
   ]
  },
  {
   "cell_type": "code",
   "execution_count": 3,
   "metadata": {},
   "outputs": [],
   "source": [
    "word2idx={'PAD':0}\n",
    "weights=[]\n",
    "with open(glove_file_location) as glove_file:\n",
    "    i=0\n",
    "    for index,line in enumerate(glove_file):\n",
    "        line_split=line.split()\n",
    "        word=line_split[0]\n",
    "        word_weights=np.asarray(line_split[1:],dtype=np.float32)\n",
    "        weights.append(word_weights)\n",
    "        word2idx[word]=index+1\n",
    "        if index>48000:\n",
    "            break\n",
    "        "
   ]
  },
  {
   "cell_type": "code",
   "execution_count": 4,
   "metadata": {},
   "outputs": [],
   "source": [
    "Embedding_dimension=len(weights[0])\n",
    "weights.insert(0,np.random.randn(Embedding_dimension))\n",
    "last_word_index=len(weights)\n",
    "weights.append(np.random.randn(Embedding_dimension))\n",
    "word2idx['UNK']=last_word_index"
   ]
  },
  {
   "cell_type": "code",
   "execution_count": 5,
   "metadata": {},
   "outputs": [],
   "source": [
    "weights=np.asarray(weights,dtype=np.float32)\n",
    "Vocab_size=len(weights)"
   ]
  },
  {
   "cell_type": "code",
   "execution_count": 6,
   "metadata": {},
   "outputs": [],
   "source": [
    "Max_time=200"
   ]
  },
  {
   "cell_type": "code",
   "execution_count": 7,
   "metadata": {},
   "outputs": [],
   "source": [
    "glove_weights_initializer=tf.constant_initializer(weights)\n",
    "encoder_inputs=tf.placeholder(dtype=tf.int32,shape=[None,Max_time])\n",
    "embedding_weights=tf.get_variable(name='embedding_weights',shape=(Vocab_size,Embedding_dimension),\n",
    "                                  trainable=True,initializer=glove_weights_initializer)\n",
    "encoder_emb_inp=tf.nn.embedding_lookup(embedding_weights,encoder_inputs)"
   ]
  },
  {
   "cell_type": "code",
   "execution_count": 10,
   "metadata": {},
   "outputs": [],
   "source": [
    "pickle_file_location='../data/squad/qa_dump'\n",
    "Question_answers=[]\n",
    "with open(pickle_file_location) as pickle_file:\n",
    "    Question_answers=pickle.load(pickle_file)"
   ]
  },
  {
   "cell_type": "code",
   "execution_count": 11,
   "metadata": {},
   "outputs": [
    {
     "data": {
      "text/plain": [
       "83435"
      ]
     },
     "execution_count": 11,
     "metadata": {},
     "output_type": "execute_result"
    }
   ],
   "source": [
    "len(Question_answers)"
   ]
  },
  {
   "cell_type": "code",
   "execution_count": 16,
   "metadata": {},
   "outputs": [
    {
     "ename": "TypeError",
     "evalue": "word_tokenize() takes at least 1 argument (0 given)",
     "output_type": "error",
     "traceback": [
      "\u001b[0;31m---------------------------------------------------------------------------\u001b[0m",
      "\u001b[0;31mTypeError\u001b[0m                                 Traceback (most recent call last)",
      "\u001b[0;32m<ipython-input-16-d381c0cf7f69>\u001b[0m in \u001b[0;36m<module>\u001b[0;34m()\u001b[0m\n\u001b[1;32m      3\u001b[0m \u001b[0mtrain_questions\u001b[0m\u001b[0;34m=\u001b[0m\u001b[0;34m[\u001b[0m\u001b[0;34m]\u001b[0m\u001b[0;34m\u001b[0m\u001b[0m\n\u001b[1;32m      4\u001b[0m \u001b[0mtrain_answers\u001b[0m\u001b[0;34m=\u001b[0m\u001b[0;34m[\u001b[0m\u001b[0;34m]\u001b[0m\u001b[0;34m\u001b[0m\u001b[0m\n\u001b[0;32m----> 5\u001b[0;31m \u001b[0mtokenizer\u001b[0m\u001b[0;34m=\u001b[0m\u001b[0mword_tokenize\u001b[0m\u001b[0;34m(\u001b[0m\u001b[0;34m)\u001b[0m\u001b[0;34m\u001b[0m\u001b[0m\n\u001b[0m\u001b[1;32m      6\u001b[0m \u001b[0;32mfor\u001b[0m \u001b[0mqa\u001b[0m \u001b[0;32min\u001b[0m \u001b[0mQuestion_answers\u001b[0m\u001b[0;34m:\u001b[0m\u001b[0;34m\u001b[0m\u001b[0m\n\u001b[1;32m      7\u001b[0m     \u001b[0mtokenized_question\u001b[0m\u001b[0;34m=\u001b[0m\u001b[0mtokenizer\u001b[0m\u001b[0;34m.\u001b[0m\u001b[0mtokenize\u001b[0m\u001b[0;34m(\u001b[0m\u001b[0mqa\u001b[0m\u001b[0;34m.\u001b[0m\u001b[0mquestion\u001b[0m\u001b[0;34m)\u001b[0m\u001b[0;34m\u001b[0m\u001b[0m\n",
      "\u001b[0;31mTypeError\u001b[0m: word_tokenize() takes at least 1 argument (0 given)"
     ]
    }
   ],
   "source": [
    "length_questions=[]\n",
    "length_answers=[]\n",
    "train_questions=[]\n",
    "train_answers=[]\n",
    "for qa in Question_answers:\n",
    "    tokenized_question=word_tokenize(qa.question)\n",
    "    length_questions.append(len(tokenized_question))\n",
    "    new_question=[]\n",
    "    for word in tokenized_question:\n",
    "        new_question.append(word2idx[word])\n",
    "    train_questions.append(new_question)\n",
    "    \n",
    "    tokenized_answer=word_tokenize(qa.answer)\n",
    "    length_answes.append(len(tokenized_answer))\n",
    "    "
   ]
  },
  {
   "cell_type": "code",
   "execution_count": null,
   "metadata": {
    "collapsed": true
   },
   "outputs": [],
   "source": []
  }
 ],
 "metadata": {
  "kernelspec": {
   "display_name": "Python 2",
   "language": "python",
   "name": "python2"
  },
  "language_info": {
   "codemirror_mode": {
    "name": "ipython",
    "version": 2
   },
   "file_extension": ".py",
   "mimetype": "text/x-python",
   "name": "python",
   "nbconvert_exporter": "python",
   "pygments_lexer": "ipython2",
   "version": "2.7.13"
  }
 },
 "nbformat": 4,
 "nbformat_minor": 2
}
