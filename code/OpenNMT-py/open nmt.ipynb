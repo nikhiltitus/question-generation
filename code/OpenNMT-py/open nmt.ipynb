{
 "cells": [
  {
   "cell_type": "code",
   "execution_count": 17,
   "metadata": {
    "collapsed": true
   },
   "outputs": [],
   "source": [
    "import torch\n",
    "import torch.nn as nn\n",
    "\n",
    "import onmt\n",
    "import onmt.io\n",
    "import onmt.modules"
   ]
  },
  {
   "cell_type": "code",
   "execution_count": 18,
   "metadata": {
    "collapsed": true
   },
   "outputs": [],
   "source": [
    "vocab = dict(torch.load(\"out/data.vocab.pt\"))\n",
    "src_padding = vocab[\"src\"].stoi[onmt.io.PAD_WORD]\n",
    "tgt_padding = vocab[\"tgt\"].stoi[onmt.io.PAD_WORD]"
   ]
  },
  {
   "cell_type": "code",
   "execution_count": 19,
   "metadata": {
    "collapsed": true
   },
   "outputs": [],
   "source": [
    "emb_size = 10\n",
    "rnn_size = 6\n",
    "# Specify the core model.\n",
    "encoder_embeddings = onmt.modules.Embeddings(emb_size, len(vocab[\"src\"]),\n",
    "                                             word_padding_idx=src_padding)\n",
    "\n",
    "encoder = onmt.modules.RNNEncoder(hidden_size=rnn_size, num_layers=1,\n",
    "                                 rnn_type=\"LSTM\", bidirectional=True,\n",
    "                                 embeddings=encoder_embeddings)\n",
    "\n",
    "decoder_embeddings = onmt.modules.Embeddings(emb_size, len(vocab[\"tgt\"]),\n",
    "                                             word_padding_idx=tgt_padding)\n",
    "decoder = onmt.modules.InputFeedRNNDecoder(hidden_size=rnn_size, num_layers=1,\n",
    "                                           bidirectional_encoder=True,\n",
    "                                           rnn_type=\"LSTM\", embeddings=decoder_embeddings)\n",
    "model = onmt.modules.NMTModel(encoder, decoder)\n",
    "\n",
    "# Specify the tgt word generator and loss computation module\n",
    "model.generator = nn.Sequential(\n",
    "            nn.Linear(rnn_size, len(vocab[\"tgt\"])),\n",
    "            nn.LogSoftmax())\n",
    "loss = onmt.Loss.NMTLossCompute(model.generator, vocab[\"tgt\"])"
   ]
  },
  {
   "cell_type": "code",
   "execution_count": 20,
   "metadata": {},
   "outputs": [],
   "source": [
    "optim = onmt.Optim(method=\"sgd\", lr=1, max_grad_norm=2)\n",
    "# type(model.named_parameters())\n",
    "# model.parameters()\n",
    "optim.set_parameters(model.named_parameters())\n",
    "\n",
    "# print model.generator.parameters()\n",
    "# model.named_parameters()"
   ]
  },
  {
   "cell_type": "code",
   "execution_count": 21,
   "metadata": {
    "collapsed": true
   },
   "outputs": [],
   "source": [
    "data = torch.load(\"out/data.train.1.pt\")\n",
    "valid_data = torch.load(\"out/data.valid.1.pt\")\n",
    "data.load_fields(vocab)\n",
    "valid_data.load_fields(vocab)\n",
    "data.examples = data.examples[:100]"
   ]
  },
  {
   "cell_type": "code",
   "execution_count": 22,
   "metadata": {
    "collapsed": true
   },
   "outputs": [],
   "source": [
    "train_iter = onmt.io.OrderedIterator(\n",
    "                dataset=data, batch_size=10,\n",
    "                device=-1,\n",
    "                repeat=False)\n",
    "valid_iter = onmt.io.OrderedIterator(\n",
    "                dataset=valid_data, batch_size=10,\n",
    "                device=-1,\n",
    "                train=False)"
   ]
  },
  {
   "cell_type": "code",
   "execution_count": 25,
   "metadata": {},
   "outputs": [
    {
     "ename": "AttributeError",
     "evalue": "'OrderedIterator' object has no attribute 'get_cur_dataset'",
     "output_type": "error",
     "traceback": [
      "\u001b[0;31m---------------------------------------------------------------------------\u001b[0m",
      "\u001b[0;31mAttributeError\u001b[0m                            Traceback (most recent call last)",
      "\u001b[0;32m<ipython-input-25-889fc5289a5c>\u001b[0m in \u001b[0;36m<module>\u001b[0;34m()\u001b[0m\n\u001b[1;32m      7\u001b[0m \u001b[0;34m\u001b[0m\u001b[0m\n\u001b[1;32m      8\u001b[0m \u001b[0;32mfor\u001b[0m \u001b[0mepoch\u001b[0m \u001b[0;32min\u001b[0m \u001b[0mrange\u001b[0m\u001b[0;34m(\u001b[0m\u001b[0;36m2\u001b[0m\u001b[0;34m)\u001b[0m\u001b[0;34m:\u001b[0m\u001b[0;34m\u001b[0m\u001b[0m\n\u001b[0;32m----> 9\u001b[0;31m     \u001b[0mtrainer\u001b[0m\u001b[0;34m.\u001b[0m\u001b[0mtrain\u001b[0m\u001b[0;34m(\u001b[0m\u001b[0mtrain_iter\u001b[0m\u001b[0;34m,\u001b[0m\u001b[0mepoch\u001b[0m\u001b[0;34m,\u001b[0m \u001b[0mreport_func\u001b[0m\u001b[0;34m)\u001b[0m\u001b[0;34m\u001b[0m\u001b[0m\n\u001b[0m\u001b[1;32m     10\u001b[0m     \u001b[0mval_stats\u001b[0m \u001b[0;34m=\u001b[0m \u001b[0mtrainer\u001b[0m\u001b[0;34m.\u001b[0m\u001b[0mvalidate\u001b[0m\u001b[0;34m(\u001b[0m\u001b[0;34m)\u001b[0m\u001b[0;34m\u001b[0m\u001b[0m\n\u001b[1;32m     11\u001b[0m \u001b[0;34m\u001b[0m\u001b[0m\n",
      "\u001b[0;32m/Users/nikhiltitus/acads/anlp/project/OpenNMT-py/onmt/Trainer.py\u001b[0m in \u001b[0;36mtrain\u001b[0;34m(self, train_iter, epoch, report_func)\u001b[0m\n\u001b[1;32m    161\u001b[0m \u001b[0;34m\u001b[0m\u001b[0m\n\u001b[1;32m    162\u001b[0m         \u001b[0;32mfor\u001b[0m \u001b[0mi\u001b[0m\u001b[0;34m,\u001b[0m \u001b[0mbatch\u001b[0m \u001b[0;32min\u001b[0m \u001b[0menumerate\u001b[0m\u001b[0;34m(\u001b[0m\u001b[0mtrain_iter\u001b[0m\u001b[0;34m)\u001b[0m\u001b[0;34m:\u001b[0m\u001b[0;34m\u001b[0m\u001b[0m\n\u001b[0;32m--> 163\u001b[0;31m             \u001b[0mcur_dataset\u001b[0m \u001b[0;34m=\u001b[0m \u001b[0mtrain_iter\u001b[0m\u001b[0;34m.\u001b[0m\u001b[0mget_cur_dataset\u001b[0m\u001b[0;34m(\u001b[0m\u001b[0;34m)\u001b[0m\u001b[0;34m\u001b[0m\u001b[0m\n\u001b[0m\u001b[1;32m    164\u001b[0m             \u001b[0mself\u001b[0m\u001b[0;34m.\u001b[0m\u001b[0mtrain_loss\u001b[0m\u001b[0;34m.\u001b[0m\u001b[0mcur_dataset\u001b[0m \u001b[0;34m=\u001b[0m \u001b[0mcur_dataset\u001b[0m\u001b[0;34m\u001b[0m\u001b[0m\n\u001b[1;32m    165\u001b[0m \u001b[0;34m\u001b[0m\u001b[0m\n",
      "\u001b[0;31mAttributeError\u001b[0m: 'OrderedIterator' object has no attribute 'get_cur_dataset'"
     ]
    }
   ],
   "source": [
    "trainer = onmt.Trainer(model, train_iter, valid_iter, loss, loss, optim)\n",
    "\n",
    "def report_func(*args):\n",
    "    stats = args[-1]\n",
    "    stats.output(args[0], args[1], 10, 0)\n",
    "    return stats\n",
    "\n",
    "for epoch in range(2):\n",
    "    trainer.train(train_iter,epoch, report_func)\n",
    "    val_stats = trainer.validate()\n",
    "\n",
    "    print(\"Validation\")\n",
    "    val_stats.output(epoch, 11, 10, 0)\n",
    "    trainer.epoch_step(val_stats.ppl(), epoch)"
   ]
  }
 ],
 "metadata": {
  "kernelspec": {
   "display_name": "Python 3",
   "language": "python",
   "name": "python3"
  },
  "language_info": {
   "codemirror_mode": {
    "name": "ipython",
    "version": 3
   },
   "file_extension": ".py",
   "mimetype": "text/x-python",
   "name": "python",
   "nbconvert_exporter": "python",
   "pygments_lexer": "ipython3",
   "version": "3.6.1"
  }
 },
 "nbformat": 4,
 "nbformat_minor": 2
}
