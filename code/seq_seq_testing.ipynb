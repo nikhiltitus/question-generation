{
 "cells": [
  {
   "cell_type": "code",
   "execution_count": 1,
   "metadata": {
    "collapsed": true
   },
   "outputs": [],
   "source": [
    "import numpy as np\n",
    "import tensorflow as tf\n",
    "import pickle\n",
    "from QuestionAnswers import QuestionAnswers\n",
    "from nltk.tokenize import word_tokenize\n"
   ]
  },
  {
   "cell_type": "code",
   "execution_count": 2,
   "metadata": {
    "collapsed": true
   },
   "outputs": [],
   "source": [
    "glove_file_location='../data/glove.6B/glove.6B.300d.txt'"
   ]
  },
  {
   "cell_type": "code",
   "execution_count": 3,
   "metadata": {
    "collapsed": true
   },
   "outputs": [],
   "source": [
    "word2idx={'PAD':0}\n",
    "weights=[]\n",
    "with open(glove_file_location) as glove_file:\n",
    "    i=0\n",
    "    for index,line in enumerate(glove_file):\n",
    "        line_split=line.split()\n",
    "        word=line_split[0]\n",
    "        word_weights=np.asarray(line_split[1:],dtype=np.float32)\n",
    "        weights.append(word_weights)\n",
    "        word2idx[word.lower()]=index+1\n",
    "        if index>48000:\n",
    "            break\n",
    "        "
   ]
  },
  {
   "cell_type": "code",
   "execution_count": 4,
   "metadata": {},
   "outputs": [],
   "source": [
    "Embedding_dimension=len(weights[0])\n",
    "weights.insert(0,np.random.randn(Embedding_dimension))\n",
    "last_word_index=len(weights)\n",
    "weights.append(np.random.randn(Embedding_dimension))\n",
    "word2idx['UNK']=last_word_index"
   ]
  },
  {
   "cell_type": "code",
   "execution_count": 5,
   "metadata": {
    "collapsed": true
   },
   "outputs": [],
   "source": [
    "weights=np.asarray(weights,dtype=np.float32)\n",
    "Vocab_size=len(weights)"
   ]
  },
  {
   "cell_type": "code",
   "execution_count": 6,
   "metadata": {
    "collapsed": true
   },
   "outputs": [],
   "source": [
    "Max_time=50"
   ]
  },
  {
   "cell_type": "code",
   "execution_count": 7,
   "metadata": {
    "collapsed": true
   },
   "outputs": [],
   "source": [
    "\n",
    "glove_weights_initializer=tf.constant_initializer(weights)\n",
    "encoder_inputs=tf.placeholder(dtype=tf.int32,shape=[None,Max_time])\n",
    "embedding_weights=tf.get_variable(name='embedding_weights',shape=(Vocab_size,Embedding_dimension),\n",
    "                                  trainable=True,initializer=glove_weights_initializer)\n",
    "encoder_emb_inp=tf.nn.embedding_lookup(embedding_weights,encoder_inputs)"
   ]
  },
  {
   "cell_type": "code",
   "execution_count": 8,
   "metadata": {
    "collapsed": true
   },
   "outputs": [],
   "source": [
    "pickle_file_location='../data/squad/qa_dump'\n",
    "Question_answers=[]\n",
    "with open(pickle_file_location) as pickle_file:\n",
    "    Question_answers=pickle.load(pickle_file)"
   ]
  },
  {
   "cell_type": "code",
   "execution_count": 9,
   "metadata": {},
   "outputs": [
    {
     "data": {
      "text/plain": [
       "83435"
      ]
     },
     "execution_count": 9,
     "metadata": {},
     "output_type": "execute_result"
    }
   ],
   "source": [
    "len(Question_answers)"
   ]
  },
  {
   "cell_type": "code",
   "execution_count": 10,
   "metadata": {},
   "outputs": [],
   "source": [
    "length_questions=[]\n",
    "length_answers=[]\n",
    "train_questions=[]\n",
    "train_answers=[]\n",
    "train_size=5000\n",
    "train_question_array=np.zeros((train_size,Max_time))\n",
    "train_answer_array=np.zeros((train_size,Max_time))\n",
    "for i,qa in enumerate(Question_answers[:5000]):\n",
    "    tokenized_question=word_tokenize(qa.question)\n",
    "    length_questions.append(len(tokenized_question))\n",
    "    new_question=[]\n",
    "    for word in tokenized_question:\n",
    "        new_question.append(word2idx.get(word.lower(),word2idx['UNK']))\n",
    "    while len(new_question)<Max_time:\n",
    "        new_question.append(0)\n",
    "    #print new_question\n",
    "    train_questions.append(np.array(new_question))\n",
    "    train_question_array[i]=np.array(new_question[:Max_time])\n",
    "    \n",
    "    tokenized_answer=word_tokenize(qa.answer)\n",
    "    length_answers.append(len(tokenized_answer))\n",
    "    new_answer=[]\n",
    "    for word in tokenized_answer:\n",
    "        new_answer.append(word2idx.get(word.lower(),word2idx['UNK']))\n",
    "    while len(new_answer)<Max_time:\n",
    "        new_answer.append(0)\n",
    "    train_answers.append(np.array(new_answer))\n",
    "    train_answer_array[i]=np.array(new_answer[:Max_time])"
   ]
  },
  {
   "cell_type": "code",
   "execution_count": 11,
   "metadata": {},
   "outputs": [
    {
     "name": "stdout",
     "output_type": "stream",
     "text": [
      "(50,)\n",
      "(5000, 50)\n"
     ]
    }
   ],
   "source": [
    "train_answers_array=np.asarray(train_answers)\n",
    "sample_answer=train_answers_array[0]\n",
    "print sample_answer.shape\n",
    "while sample_answer.shape[0]<Max_time:\n",
    "    sample_answer.append(0)\n",
    "sample_answer.shape\n",
    "print train_question_array.shape"
   ]
  },
  {
   "cell_type": "code",
   "execution_count": 33,
   "metadata": {},
   "outputs": [
    {
     "name": "stdout",
     "output_type": "stream",
     "text": [
      "(50, 50, 300)\n"
     ]
    }
   ],
   "source": [
    "with tf.Session() as session:\n",
    "    session.run(tf.global_variables_initializer())\n",
    "    out=session.run(encoder_emb_inp,feed_dict={encoder_inputs:(train_question_array[:50])})\n",
    "    print out.shape"
   ]
  },
  {
   "cell_type": "code",
   "execution_count": 12,
   "metadata": {},
   "outputs": [],
   "source": [
    "lstm_size=128\n",
    "inputs=tf.placeholder(dtype=tf.float32,shape=[None,None,+Embedding_dimension])\n",
    "encoder_lengths=tf.placeholder(dtype=tf.int32,shape=None)\n",
    "decoder_lengths=tf.placeholder(dtype=tf.int32,shape=None)\n",
    "encoder_lstm_cell=tf.nn.rnn_cell.BasicLSTMCell(lstm_size)\n",
    "encoder_output,encoder_states=tf.nn.dynamic_rnn(encoder_lstm_cell,inputs,\n",
    "                                                sequence_length=encoder_lengths,dtype=tf.float32)\n",
    "#decoder_lstm_cell=tf.nn.rnn_cell.BasicLSTMCell(lstm_size)\n",
    "#decoder_output,decoder,states=tf.nn.dynamic_rnn(decoder_lstm_cell,encoder_states,\n",
    "#                                                sequence_length=decoder_lengths,dtype=tf.float32)\n",
    "#weights=tf.Variable(tf.random_normal([lstm_size,Embedding_dimension]))\n",
    "#biases=tf.Variable(tf.random_normal([Embedding_dimension]))\n",
    "#scores=tf.einsum('ijk,kl -> ijl',decoder_output,weights)+biases\n",
    "\n"
   ]
  },
  {
   "cell_type": "code",
   "execution_count": 15,
   "metadata": {},
   "outputs": [
    {
     "data": {
      "text/plain": [
       "TensorShape([Dimension(None), Dimension(128)])"
      ]
     },
     "execution_count": 15,
     "metadata": {},
     "output_type": "execute_result"
    }
   ],
   "source": [
    "encoder_states[0].shape"
   ]
  },
  {
   "cell_type": "code",
   "execution_count": null,
   "metadata": {
    "collapsed": true
   },
   "outputs": [],
   "source": []
  }
 ],
 "metadata": {
  "kernelspec": {
   "display_name": "Python 2",
   "language": "python",
   "name": "python2"
  },
  "language_info": {
   "codemirror_mode": {
    "name": "ipython",
    "version": 2
   },
   "file_extension": ".py",
   "mimetype": "text/x-python",
   "name": "python",
   "nbconvert_exporter": "python",
   "pygments_lexer": "ipython2",
   "version": "2.7.13"
  }
 },
 "nbformat": 4,
 "nbformat_minor": 2
}
